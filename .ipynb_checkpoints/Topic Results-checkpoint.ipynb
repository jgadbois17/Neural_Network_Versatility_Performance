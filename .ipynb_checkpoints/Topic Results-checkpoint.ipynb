{
 "cells": [
  {
   "cell_type": "markdown",
   "metadata": {},
   "source": [
    "<a name=\"0\"></a> \n",
    "# Machine Learning for Digital Signal Processing Data \n",
    "---\n",
    "\n",
    "## Notebook Contents \n",
    "\n",
    "* [1. Image Classification](#1) \n",
    "\n",
    "---\n",
    "\n"
   ]
  },
  {
   "cell_type": "code",
   "execution_count": null,
   "metadata": {},
   "outputs": [],
   "source": [
    "import numpy as np \n",
    "from dspML.data import data \n",
    "from dspML.image import utils, plot "
   ]
  },
  {
   "cell_type": "markdown",
   "metadata": {},
   "source": [
    "<a name=\"1\"></a> \n",
    "# 1. Image Classification \n",
    "\n",
    "* [Notebook Contents](#0) \n",
    "\n",
    "---\n",
    "\n",
    "## KMNIST Data \n",
    "\n",
    "\n",
    "---\n",
    "\n",
    "## Models \n",
    "\n",
    "* Linear Discriminant Analysis \n",
    "* Convolutional Neural Network "
   ]
  },
  {
   "cell_type": "code",
   "execution_count": null,
   "metadata": {},
   "outputs": [],
   "source": [
    "# load data \n",
    "X_train, y_train, X_test, y_test = data.load_kmnist() \n",
    "\n",
    "# plot averages for each class \n",
    "plot.kmnist_class_means(X_train, y_train, figsize=(15, 8)) "
   ]
  },
  {
   "cell_type": "markdown",
   "metadata": {},
   "source": [
    "## Linear Discriminant Analysis "
   ]
  },
  {
   "cell_type": "code",
   "execution_count": null,
   "metadata": {},
   "outputs": [],
   "source": [
    "# preprocess data \n",
    "X_train_lda = utils.flatten_data(X_train) \n",
    "X_test_lda = utils.flatten_data(X_test) \n",
    "\n",
    "# define model \n",
    "from dspML.image.models.classification import LDA \n",
    "lda = LDA(X_train_lda, y_train) \n",
    "lda_preds = lda.predict(X_test_lda) "
   ]
  },
  {
   "cell_type": "code",
   "execution_count": null,
   "metadata": {},
   "outputs": [],
   "source": [
    "# classification summary \n",
    "utils.classification_summary(y_test, lda_preds) "
   ]
  },
  {
   "cell_type": "markdown",
   "metadata": {},
   "source": [
    "## Convolutional Neural Network "
   ]
  },
  {
   "cell_type": "code",
   "execution_count": null,
   "metadata": {},
   "outputs": [],
   "source": [
    "# load and preprocess data \n",
    "n_classes = len(np.unique(y_test)) \n",
    "X_train_cnn, y_train = utils.preprocess_classification_data(X_train, y_train) \n",
    "X_test_cnn,_ = utils.preprocess_classification_data(X_test, y_test) \n",
    "\n",
    "# define model \n",
    "from dspML.image.models.classification import CNN_classifier \n",
    "cnn = CNN_classifier(in_shape=X_train.shape[1:], n_classes) \n",
    "cnn.summary() \n",
    "_= utils.fit_classifier(cnn, X_train_cnn, y_train) \n",
    "cnn_preds = utils.cnn_preds(cnn, X_test_cnn) "
   ]
  },
  {
   "cell_type": "code",
   "execution_count": null,
   "metadata": {},
   "outputs": [],
   "source": [
    "# classification summary \n",
    "utils.classification_summary(y_test, cnn_preds) "
   ]
  },
  {
   "cell_type": "code",
   "execution_count": null,
   "metadata": {},
   "outputs": [],
   "source": []
  },
  {
   "cell_type": "code",
   "execution_count": null,
   "metadata": {},
   "outputs": [],
   "source": []
  },
  {
   "cell_type": "code",
   "execution_count": null,
   "metadata": {},
   "outputs": [],
   "source": []
  },
  {
   "cell_type": "code",
   "execution_count": null,
   "metadata": {},
   "outputs": [],
   "source": []
  },
  {
   "cell_type": "code",
   "execution_count": null,
   "metadata": {},
   "outputs": [],
   "source": []
  },
  {
   "cell_type": "code",
   "execution_count": null,
   "metadata": {},
   "outputs": [],
   "source": []
  },
  {
   "cell_type": "code",
   "execution_count": null,
   "metadata": {},
   "outputs": [],
   "source": []
  },
  {
   "cell_type": "code",
   "execution_count": null,
   "metadata": {},
   "outputs": [],
   "source": []
  },
  {
   "cell_type": "code",
   "execution_count": null,
   "metadata": {},
   "outputs": [],
   "source": []
  },
  {
   "cell_type": "code",
   "execution_count": null,
   "metadata": {},
   "outputs": [],
   "source": []
  },
  {
   "cell_type": "code",
   "execution_count": null,
   "metadata": {},
   "outputs": [],
   "source": []
  },
  {
   "cell_type": "code",
   "execution_count": null,
   "metadata": {},
   "outputs": [],
   "source": []
  }
 ],
 "metadata": {
  "kernelspec": {
   "display_name": "nnet",
   "language": "python",
   "name": "nnet"
  },
  "language_info": {
   "codemirror_mode": {
    "name": "ipython",
    "version": 3
   },
   "file_extension": ".py",
   "mimetype": "text/x-python",
   "name": "python",
   "nbconvert_exporter": "python",
   "pygments_lexer": "ipython3",
   "version": "3.7.7"
  }
 },
 "nbformat": 4,
 "nbformat_minor": 4
}
